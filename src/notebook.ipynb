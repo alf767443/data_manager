{
 "cells": [
  {
   "cell_type": "code",
   "execution_count": null,
   "metadata": {},
   "outputs": [],
   "source": [
    "import json, datetime, bson, os, random\n",
    "import GlobalSets.Mongo as Mongo\n",
    "\n",
    "## Create the path\n",
    "path =  os.path.expanduser('~')+'/UGV_tempData/'\n",
    "\n",
    "def createFile(dataPath: bson, content: bson):\n",
    "    try:\n",
    "        ## Check if dataPath is valid\n",
    "        test = dataPath['dataSource']\n",
    "        test = dataPath['dataBase']\n",
    "        test = dataPath['collection']\n",
    "        # Create data string\n",
    "        data = bson.encode(document={'dataPath': dataPath, 'content': content})\n",
    "        ## Create the file name\n",
    "        fileName =  datetime.datetime.strftime(datetime.datetime.now(),\"%Y%m%d%H%M%S_%f\")\n",
    "        ## Define the extension\n",
    "        extencion = '.cjson'\n",
    "        ## Create the extension\n",
    "        fullPath = path+fileName+extencion\n",
    "        # Create directory if it don't exist\n",
    "        if not os.path.exists(path=path):\n",
    "            os.chmod\n",
    "            os.makedirs(name=path)\n",
    "        # Create file\n",
    "        file = open(file=fullPath, mode='a')\n",
    "        file = open(file=fullPath, mode='wb')\n",
    "        # Fill file\n",
    "        file.write(data)\n",
    "        file.close()\n",
    "        return file\n",
    "    except Exception as e:\n",
    "        print(e)\n",
    "        return(False)\n",
    "\n",
    "def getFiles():\n",
    "    ## Get files\n",
    "    files = sorted(os.listdir(path=path), reverse=True)\n",
    "    ## Read files\n",
    "    try:\n",
    "        while Mongo.Clients.RemoteUnitClient.is_primary and len(files) > 0:\n",
    "            for file in files:\n",
    "                ## Read file\n",
    "                get = open(file=path+file, mode='rb')\n",
    "                data = bson.BSON.decode(get.read())\n",
    "                dataPath = data['dataPath']\n",
    "                content = data['content']\n",
    "                ## Send to Remote Unit\n",
    "                if Mongo.Clients.RemoteUnitClient[dataPath['dataBase']][dataPath['collection']].insert_one(content).acknowledged:\n",
    "                    get.close()\n",
    "                    if os.path.exists(path=path+file):\n",
    "                        os.remove(path+file)\n",
    "            files = sorted(os.listdir(path=path), reverse=True)\n",
    "    except Exception as e:\n",
    "        print(e)\n",
    "        return False\n",
    "    return True\n",
    "\n",
    "\n",
    "\n",
    "data = {\n",
    "            \"dateTime\"      : datetime.datetime.now(),\n",
    "            \"Voltage\"       : random.random()*15,\n",
    "            \"Current\"       : random.random()*5,\n",
    "            \"Percent\"       : random.random(),\n",
    "            \"Temperature\"   : random.random()*100\n",
    "        }\n",
    "\n",
    "for i in range(0, 10):\n",
    "    createFile({'dataSource': 'CeDRI_UGV', 'dataBase': 'CeDRI_UGV_buffer', 'collection': 'Battery_Data'},content=data)\n",
    "    \n",
    "#getFiles()"
   ]
  },
  {
   "cell_type": "code",
   "execution_count": null,
   "metadata": {},
   "outputs": [],
   "source": [
    "import GlobalSets.Mongo as Mongo\n",
    "\n",
    "ping(Mongo.Clients.RemoteUnitClient)"
   ]
  },
  {
   "cell_type": "code",
   "execution_count": 1,
   "metadata": {},
   "outputs": [
    {
     "name": "stdout",
     "output_type": "stream",
     "text": [
      "mongodb://194.210.89.236:27017/\n"
     ]
    }
   ],
   "source": [
    "ip      = '194.210.89.236'  # Remote Unit CLient\n",
    "port    = 27017             # Port \n",
    "\n",
    "string = 'mongodb://' + ip + ':' + str(port) + '/'\n",
    "\n",
    "print(string)"
   ]
  },
  {
   "cell_type": "code",
   "execution_count": null,
   "metadata": {},
   "outputs": [],
   "source": [
    "from GlobalSets.Mongo import DataSource as Source, Clients as MongoClient, DataBases as db, Collections as col\n",
    "from GlobalSets.localSave import createFile, sendFile\n",
    "import bson, pymongo\n",
    "\n",
    "from random import random\n",
    "from datetime import datetime\n",
    "from time import sleep\n",
    "\n",
    "dataPath = {\n",
    "    'dataSource': Source.CeDRI_UGV, \n",
    "    'dataBase': db.dbBuffer, \n",
    "    'collection': col.Battery\n",
    "}\n",
    "\n",
    "while True:\n",
    "    data = {\n",
    "        'dateTime'      : datetime.now(),\n",
    "        'voltage'       : 20+5*random(),\n",
    "        'current'       : 2*random(),\n",
    "        'percentage'    : (80+4*random())/100,\n",
    "    }\n",
    "    print(sendFile(Client=MongoClient.RemoteUnitClient, dataPath=dataPath, content=data))\n",
    "    sleep(1)"
   ]
  },
  {
   "cell_type": "code",
   "execution_count": 17,
   "metadata": {},
   "outputs": [
    {
     "data": {
      "text/plain": [
       "'192.168.56.1'"
      ]
     },
     "execution_count": 17,
     "metadata": {},
     "output_type": "execute_result"
    }
   ],
   "source": [
    "import socket\n",
    " \n",
    "socket.gethostbyname(socket.gethostname())"
   ]
  },
  {
   "cell_type": "code",
   "execution_count": 2,
   "metadata": {},
   "outputs": [
    {
     "name": "stderr",
     "output_type": "stream",
     "text": [
      "\n",
      "KeyboardInterrupt\n",
      "\n"
     ]
    }
   ],
   "source": [
    "from nodes_copy import NODES\n",
    "import os \n",
    "\n",
    "for node in NODES:\n",
    "    os.system(f\"python test.py {node}\") \n",
    "    print(node)\n",
    "    "
   ]
  },
  {
   "cell_type": "code",
   "execution_count": 37,
   "metadata": {},
   "outputs": [
    {
     "name": "stdout",
     "output_type": "stream",
     "text": [
      "{'c': {'a': 1, 's': 1}}\n"
     ]
    },
    {
     "data": {
      "text/plain": [
       "'\\n c: \\n  a: 1,\\n  s: 1\\n \\n'"
      ]
     },
     "execution_count": 37,
     "metadata": {},
     "output_type": "execute_result"
    }
   ],
   "source": [
    "import json, bson \n",
    "\n",
    "a = {'c': {'a':1, 's':1}}\n",
    "print(a)\n",
    "\n",
    "\n",
    "command = json.dumps(a, indent=1)\n",
    "command.replace('{','').replace('}','').replace('\"', '')\n",
    "\n"
   ]
  },
  {
   "cell_type": "code",
   "execution_count": 47,
   "metadata": {},
   "outputs": [
    {
     "name": "stdout",
     "output_type": "stream",
     "text": [
      "{'a': 1}\n",
      "{'a': 0}\n",
      "{'a': 1}\n",
      "[{'a': False}, {'a': 0}, {'a': False}]\n"
     ]
    }
   ],
   "source": [
    "a = [{'a': 1}, {'a': 0},{'a': 1}]\n",
    "\n",
    "for actual in a: \n",
    "    print(actual)\n",
    "    if actual['a']:\n",
    "        actual.update({'a': False})\n",
    "print(a)"
   ]
  },
  {
   "cell_type": "code",
   "execution_count": 1,
   "metadata": {},
   "outputs": [
    {
     "ename": "SyntaxError",
     "evalue": "invalid syntax (903701919.py, line 12)",
     "output_type": "error",
     "traceback": [
      "\u001b[1;36m  Input \u001b[1;32mIn [1]\u001b[1;36m\u001b[0m\n\u001b[1;33m    return Client[dataBase][collection].\u001b[0m\n\u001b[1;37m                                        ^\u001b[0m\n\u001b[1;31mSyntaxError\u001b[0m\u001b[1;31m:\u001b[0m invalid syntax\n"
     ]
    }
   ],
   "source": [
    "import json, datetime, bson, os, random, pymongo\n",
    "from pymongo import errors as pymongo_erros\n",
    "from bson import errors as bson_errors\n",
    "import GlobalSets.Mongo as Mongo\n",
    "\n",
    "def updateMany(Client: pymongo.MongoClient, dataPath: bson, content: bson):\n",
    "    try:\n",
    "        ## Check if dataPath is valid\n",
    "        dataSource = dataPath['dataSource']\n",
    "        dataBase = dataPath['dataBase']\n",
    "        collection = dataPath['collection']\n",
    "        return Client[dataBase][collection].updateMany(content, upsert=True)\n",
    "    except pymongo_erros.DuplicateKeyError:\n",
    "        return True\n",
    "    except Exception as e:\n",
    "        return False"
   ]
  },
  {
   "cell_type": "code",
   "execution_count": 10,
   "metadata": {},
   "outputs": [
    {
     "ename": "TypeError",
     "evalue": "'Collection' object is not callable. If you meant to call the 'insertMany' method on a 'Collection' object it is failing because no such method exists.",
     "output_type": "error",
     "traceback": [
      "\u001b[1;31m---------------------------------------------------------------------------\u001b[0m",
      "\u001b[1;31mTypeError\u001b[0m                                 Traceback (most recent call last)",
      "\u001b[1;32mc:\\Users\\andre\\GitHub\\data_manager\\src\\notebook.ipynb Cell 10\u001b[0m in \u001b[0;36m<cell line: 16>\u001b[1;34m()\u001b[0m\n\u001b[0;32m      <a href='vscode-notebook-cell:/c%3A/Users/andre/GitHub/data_manager/src/notebook.ipynb#X12sZmlsZQ%3D%3D?line=8'>9</a>\u001b[0m RemoteUnitClient \u001b[39m=\u001b[39m pymongo\u001b[39m.\u001b[39mMongoClient(\u001b[39m'\u001b[39m\u001b[39mmongodb://\u001b[39m\u001b[39m'\u001b[39m \u001b[39m+\u001b[39m ip \u001b[39m+\u001b[39m \u001b[39m'\u001b[39m\u001b[39m:\u001b[39m\u001b[39m'\u001b[39m \u001b[39m+\u001b[39m \u001b[39mstr\u001b[39m(port) \u001b[39m+\u001b[39m \u001b[39m'\u001b[39m\u001b[39m/\u001b[39m\u001b[39m'\u001b[39m, connectTimeoutMS \u001b[39m=\u001b[39m \u001b[39m1000\u001b[39m, serverSelectionTimeoutMS \u001b[39m=\u001b[39m \u001b[39m1000\u001b[39m, socketTimeoutMS \u001b[39m=\u001b[39m \u001b[39m1000\u001b[39m)\n\u001b[0;32m     <a href='vscode-notebook-cell:/c%3A/Users/andre/GitHub/data_manager/src/notebook.ipynb#X12sZmlsZQ%3D%3D?line=10'>11</a>\u001b[0m dataPath \u001b[39m=\u001b[39m {\n\u001b[0;32m     <a href='vscode-notebook-cell:/c%3A/Users/andre/GitHub/data_manager/src/notebook.ipynb#X12sZmlsZQ%3D%3D?line=11'>12</a>\u001b[0m     \u001b[39m'\u001b[39m\u001b[39mdataBase\u001b[39m\u001b[39m'\u001b[39m  : \u001b[39m'\u001b[39m\u001b[39mteste\u001b[39m\u001b[39m'\u001b[39m,\n\u001b[0;32m     <a href='vscode-notebook-cell:/c%3A/Users/andre/GitHub/data_manager/src/notebook.ipynb#X12sZmlsZQ%3D%3D?line=12'>13</a>\u001b[0m     \u001b[39m'\u001b[39m\u001b[39mcollection\u001b[39m\u001b[39m'\u001b[39m: \u001b[39m'\u001b[39m\u001b[39mactions\u001b[39m\u001b[39m'\u001b[39m\n\u001b[0;32m     <a href='vscode-notebook-cell:/c%3A/Users/andre/GitHub/data_manager/src/notebook.ipynb#X12sZmlsZQ%3D%3D?line=13'>14</a>\u001b[0m }\n\u001b[1;32m---> <a href='vscode-notebook-cell:/c%3A/Users/andre/GitHub/data_manager/src/notebook.ipynb#X12sZmlsZQ%3D%3D?line=15'>16</a>\u001b[0m RemoteUnitClient[\u001b[39m'\u001b[39;49m\u001b[39mteste\u001b[39;49m\u001b[39m'\u001b[39;49m][\u001b[39m'\u001b[39;49m\u001b[39mactions\u001b[39;49m\u001b[39m'\u001b[39;49m]\u001b[39m.\u001b[39;49minsertMany(a)\n",
      "File \u001b[1;32mc:\\Users\\andre\\AppData\\Local\\Programs\\Python\\Python38\\lib\\site-packages\\pymongo\\collection.py:3491\u001b[0m, in \u001b[0;36mCollection.__call__\u001b[1;34m(self, *args, **kwargs)\u001b[0m\n\u001b[0;32m   3485\u001b[0m \u001b[39mif\u001b[39;00m \u001b[39m\"\u001b[39m\u001b[39m.\u001b[39m\u001b[39m\"\u001b[39m \u001b[39mnot\u001b[39;00m \u001b[39min\u001b[39;00m \u001b[39mself\u001b[39m\u001b[39m.\u001b[39m__name:\n\u001b[0;32m   3486\u001b[0m     \u001b[39mraise\u001b[39;00m \u001b[39mTypeError\u001b[39;00m(\u001b[39m\"\u001b[39m\u001b[39m'\u001b[39m\u001b[39mCollection\u001b[39m\u001b[39m'\u001b[39m\u001b[39m object is not callable. If you \u001b[39m\u001b[39m\"\u001b[39m\n\u001b[0;32m   3487\u001b[0m                     \u001b[39m\"\u001b[39m\u001b[39mmeant to call the \u001b[39m\u001b[39m'\u001b[39m\u001b[39m%s\u001b[39;00m\u001b[39m'\u001b[39m\u001b[39m method on a \u001b[39m\u001b[39m'\u001b[39m\u001b[39mDatabase\u001b[39m\u001b[39m'\u001b[39m\u001b[39m \u001b[39m\u001b[39m\"\u001b[39m\n\u001b[0;32m   3488\u001b[0m                     \u001b[39m\"\u001b[39m\u001b[39mobject it is failing because no such method \u001b[39m\u001b[39m\"\u001b[39m\n\u001b[0;32m   3489\u001b[0m                     \u001b[39m\"\u001b[39m\u001b[39mexists.\u001b[39m\u001b[39m\"\u001b[39m \u001b[39m%\u001b[39m\n\u001b[0;32m   3490\u001b[0m                     \u001b[39mself\u001b[39m\u001b[39m.\u001b[39m__name)\n\u001b[1;32m-> 3491\u001b[0m \u001b[39mraise\u001b[39;00m \u001b[39mTypeError\u001b[39;00m(\u001b[39m\"\u001b[39m\u001b[39m'\u001b[39m\u001b[39mCollection\u001b[39m\u001b[39m'\u001b[39m\u001b[39m object is not callable. If you meant to \u001b[39m\u001b[39m\"\u001b[39m\n\u001b[0;32m   3492\u001b[0m                 \u001b[39m\"\u001b[39m\u001b[39mcall the \u001b[39m\u001b[39m'\u001b[39m\u001b[39m%s\u001b[39;00m\u001b[39m'\u001b[39m\u001b[39m method on a \u001b[39m\u001b[39m'\u001b[39m\u001b[39mCollection\u001b[39m\u001b[39m'\u001b[39m\u001b[39m object it is \u001b[39m\u001b[39m\"\u001b[39m\n\u001b[0;32m   3493\u001b[0m                 \u001b[39m\"\u001b[39m\u001b[39mfailing because no such method exists.\u001b[39m\u001b[39m\"\u001b[39m \u001b[39m%\u001b[39m\n\u001b[0;32m   3494\u001b[0m                 \u001b[39mself\u001b[39m\u001b[39m.\u001b[39m__name\u001b[39m.\u001b[39msplit(\u001b[39m\"\u001b[39m\u001b[39m.\u001b[39m\u001b[39m\"\u001b[39m)[\u001b[39m-\u001b[39m\u001b[39m1\u001b[39m])\n",
      "\u001b[1;31mTypeError\u001b[0m: 'Collection' object is not callable. If you meant to call the 'insertMany' method on a 'Collection' object it is failing because no such method exists."
     ]
    }
   ],
   "source": [
    "import pymongo\n",
    "from bson import  ObjectId\n",
    "import  datetime\n",
    "\n",
    "a =[{'_id': ObjectId('63e104d5c0e7595da1a1d0fa'), 'dateTime': datetime.datetime(2023, 2, 6, 13, 47, 1, 311000), 'status': 1, 'source': 0, 'command': {'linear': {'x': 100, 'y': 0.0, 'z': 0.0}, 'angular': {'x': 0.0, 'y': 0.0, 'z': -1.0}}, 'topic': '/turtle1/cmd_vel', 'msg': 'geometry_msgs/Twist'}, {'_id': ObjectId('63daa091dad33750fa944859'), 'dateTime': datetime.datetime(2023, 2, 1, 17, 25, 37, 952000), 'status': 1, 'source': 0, 'command': {'linear': {'x': -1, 'y': 0.0, 'z': 0.0}, 'angular': {'x': 0.0, 'y': 0.0, 'z': -1.0}}, 'topic': '/turtle1/cmd_vel', 'msg': 'geometry_msgs/Twist'}]\n",
    "\n",
    "ip      = '192.168.217.183'  # Remote Unit CLient\n",
    "port    = 27017             # Port \n",
    "RemoteUnitClient = pymongo.MongoClient('mongodb://' + ip + ':' + str(port) + '/', connectTimeoutMS = 1000, serverSelectionTimeoutMS = 1000, socketTimeoutMS = 1000)\n",
    "\n",
    "dataPath = {\n",
    "    'dataBase'  : 'teste',\n",
    "    'collection': 'actions'\n",
    "}\n",
    "\n",
    "RemoteUnitClient['teste']['actions'].insertMany(a)"
   ]
  },
  {
   "cell_type": "code",
   "execution_count": null,
   "metadata": {},
   "outputs": [],
   "source": []
  }
 ],
 "metadata": {
  "kernelspec": {
   "display_name": "Python 3",
   "language": "python",
   "name": "python3"
  },
  "language_info": {
   "codemirror_mode": {
    "name": "ipython",
    "version": 3
   },
   "file_extension": ".py",
   "mimetype": "text/x-python",
   "name": "python",
   "nbconvert_exporter": "python",
   "pygments_lexer": "ipython3",
   "version": "3.8.10"
  },
  "orig_nbformat": 4,
  "vscode": {
   "interpreter": {
    "hash": "3a4fd3c0dcbc658b189fbf5814096262f6268a6dc22fca0ed725de03044a0d6b"
   }
  }
 },
 "nbformat": 4,
 "nbformat_minor": 2
}
