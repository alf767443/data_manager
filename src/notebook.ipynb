{
 "cells": [
  {
   "cell_type": "code",
   "execution_count": 172,
   "metadata": {},
   "outputs": [
    {
     "name": "stdout",
     "output_type": "stream",
     "text": [
      "{'aa': 1, 'j': 'agsasonkd', '_id': 0}\n",
      "{'aa': 1, 'j': 'agsasonkd', '_id': 1}\n",
      "{'aa': 1, 'j': 'agsasonkd', '_id': 2}\n",
      "{'aa': 1, 'j': 'agsasonkd', '_id': 3}\n",
      "{'aa': 1, 'j': 'agsasonkd', '_id': 4}\n",
      "{'aa': 1, 'j': 'agsasonkd', '_id': 5}\n",
      "{'aa': 1, 'j': 'agsasonkd', '_id': 6}\n",
      "{'aa': 1, 'j': 'agsasonkd', '_id': 7}\n",
      "{'aa': 1, 'j': 'agsasonkd', '_id': 8}\n",
      "{'aa': 1, 'j': 'agsasonkd', '_id': 9}\n",
      "[{'aa': 1, 'j': 'agsasonkd', '_id': 0}, {'aa': 1, 'j': 'agsasonkd', '_id': 1}, {'aa': 1, 'j': 'agsasonkd', '_id': 2}, {'aa': 1, 'j': 'agsasonkd', '_id': 3}, {'aa': 1, 'j': 'agsasonkd', '_id': 4}, {'aa': 1, 'j': 'agsasonkd', '_id': 5}, {'aa': 1, 'j': 'agsasonkd', '_id': 6}, {'aa': 1, 'j': 'agsasonkd', '_id': 7}, {'aa': 1, 'j': 'agsasonkd', '_id': 8}, {'aa': 1, 'j': 'agsasonkd', '_id': 9}]\n"
     ]
    }
   ],
   "source": [
    "a = {'aa': 1, 'j': \"agsasonkd\"}\n",
    "b=[]\n",
    "for i in range(0,10):\n",
    "    a.update({'_id': i})\n",
    "    b.append(a.copy())\n",
    "    print(a)\n",
    "\n",
    "print(b)\n"
   ]
  },
  {
   "cell_type": "code",
   "execution_count": 173,
   "metadata": {},
   "outputs": [],
   "source": [
    "import json"
   ]
  },
  {
   "cell_type": "code",
   "execution_count": 174,
   "metadata": {},
   "outputs": [
    {
     "name": "stdout",
     "output_type": "stream",
     "text": [
      "<class 'str'>\n",
      "{\"aa\": 1, \"j\": \"agsasonkd\", \"_id\": 9}\n"
     ]
    }
   ],
   "source": [
    "a = json.dumps(a)\n",
    "print(type(a))\n",
    "print(a)"
   ]
  },
  {
   "cell_type": "code",
   "execution_count": 175,
   "metadata": {},
   "outputs": [
    {
     "name": "stdout",
     "output_type": "stream",
     "text": [
      "<class 'dict'>\n",
      "{'aa': 1, 'j': 'agsasonkd', '_id': 9}\n",
      "1\n"
     ]
    }
   ],
   "source": [
    "a = json.loads(a)\n",
    "print(type(a))\n",
    "print(a)\n",
    "print(a['aa'])\n"
   ]
  },
  {
   "cell_type": "code",
   "execution_count": 176,
   "metadata": {},
   "outputs": [
    {
     "name": "stdout",
     "output_type": "stream",
     "text": [
      "1\n",
      "2\n",
      "3\n",
      "4\n",
      "5\n",
      "6\n",
      "7\n",
      "8\n",
      "9\n",
      "10\n",
      "[{'aa': 1, 'j': 'agsasonkd', '_id': 0}, {'aa': 1, 'j': 'agsasonkd', '_id': 1}, {'aa': 1, 'j': 'agsasonkd', '_id': 2}, {'aa': 1, 'j': 'agsasonkd', '_id': 3}, {'aa': 1, 'j': 'agsasonkd', '_id': 4}, {'aa': 1, 'j': 'agsasonkd', '_id': 5}, {'aa': 1, 'j': 'agsasonkd', '_id': 6}, {'aa': 1, 'j': 'agsasonkd', '_id': 7}, {'aa': 1, 'j': 'agsasonkd', '_id': 8}, {'aa': 1, 'j': 'agsasonkd', '_id': 9}]\n"
     ]
    }
   ],
   "source": [
    "n = 0\n",
    "for i in b:\n",
    "    # i.update({'_id': n})\n",
    "    n = n + 1\n",
    "    print(n)\n",
    "print(b)\n"
   ]
  },
  {
   "cell_type": "code",
   "execution_count": 177,
   "metadata": {},
   "outputs": [
    {
     "name": "stdout",
     "output_type": "stream",
     "text": [
      "[{'aa': 1, 'j': 'agsasonkd', '_id': 0}, {'aa': 1, 'j': 'agsasonkd', '_id': 1}, {'aa': 1, 'j': 'agsasonkd', '_id': 2}, {'aa': 1, 'j': 'agsasonkd', '_id': 3}, {'aa': 1, 'j': 'agsasonkd', '_id': 4}, {'aa': 1, 'j': 'agsasonkd', '_id': 5}, {'aa': 1, 'j': 'agsasonkd', '_id': 6}, {'aa': 1, 'j': 'agsasonkd', '_id': 7}, {'aa': 1, 'j': 'agsasonkd', '_id': 8}, {'aa': 1, 'j': 'agsasonkd', '_id': 9}]\n"
     ]
    }
   ],
   "source": [
    "res_list = []\n",
    "list_of_dictionaries = b\n",
    "for dictionary in list_of_dictionaries:\n",
    "    if dictionary not in res_list:\n",
    "        res_list.append(dictionary)\n",
    "print(res_list)"
   ]
  },
  {
   "cell_type": "code",
   "execution_count": 178,
   "metadata": {},
   "outputs": [
    {
     "name": "stdout",
     "output_type": "stream",
     "text": [
      "[{'aa': 1, 'j': 'agsasonkd', '_id': 0}]\n"
     ]
    }
   ],
   "source": [
    "i = 1\n",
    "while i < len(b):\n",
    "    # pr;int(b[i])\n",
    "    if b[i]['aa'] == b[i-1]['aa']:\n",
    "        b.pop(i)\n",
    "    else:\n",
    "        i = i+1\n",
    "        \n",
    "print(b)"
   ]
  },
  {
   "cell_type": "code",
   "execution_count": null,
   "metadata": {},
   "outputs": [],
   "source": []
  }
 ],
 "metadata": {
  "kernelspec": {
   "display_name": "Python 3",
   "language": "python",
   "name": "python3"
  },
  "language_info": {
   "codemirror_mode": {
    "name": "ipython",
    "version": 3
   },
   "file_extension": ".py",
   "mimetype": "text/x-python",
   "name": "python",
   "nbconvert_exporter": "python",
   "pygments_lexer": "ipython3",
   "version": "3.8.10"
  },
  "orig_nbformat": 4,
  "vscode": {
   "interpreter": {
    "hash": "3a4fd3c0dcbc658b189fbf5814096262f6268a6dc22fca0ed725de03044a0d6b"
   }
  }
 },
 "nbformat": 4,
 "nbformat_minor": 2
}
