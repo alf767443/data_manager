{
 "cells": [
  {
   "cell_type": "code",
   "execution_count": null,
   "metadata": {},
   "outputs": [],
   "source": [
    "import json, datetime, bson, os, random\n",
    "import GlobalSets.Mongo as Mongo\n",
    "\n",
    "## Create the path\n",
    "path =  os.path.expanduser('~')+'/UGV_tempData/'\n",
    "\n",
    "def createFile(dataPath: bson, content: bson):\n",
    "    try:\n",
    "        ## Check if dataPath is valid\n",
    "        test = dataPath['dataSource']\n",
    "        test = dataPath['dataBase']\n",
    "        test = dataPath['collection']\n",
    "        # Create data string\n",
    "        data = bson.encode(document={'dataPath': dataPath, 'content': content})\n",
    "        ## Create the file name\n",
    "        fileName =  datetime.datetime.strftime(datetime.datetime.now(),\"%Y%m%d%H%M%S_%f\")\n",
    "        ## Define the extension\n",
    "        extencion = '.cjson'\n",
    "        ## Create the extension\n",
    "        fullPath = path+fileName+extencion\n",
    "        # Create directory if it don't exist\n",
    "        if not os.path.exists(path=path):\n",
    "            os.chmod\n",
    "            os.makedirs(name=path)\n",
    "        # Create file\n",
    "        file = open(file=fullPath, mode='a')\n",
    "        file = open(file=fullPath, mode='wb')\n",
    "        # Fill file\n",
    "        file.write(data)\n",
    "        file.close()\n",
    "        return file\n",
    "    except Exception as e:\n",
    "        print(e)\n",
    "        return(False)\n",
    "\n",
    "def getFiles():\n",
    "    ## Get files\n",
    "    files = sorted(os.listdir(path=path), reverse=True)\n",
    "    ## Read files\n",
    "    try:\n",
    "        while Mongo.Clients.RemoteUnitClient.is_primary and len(files) > 0:\n",
    "            for file in files:\n",
    "                ## Read file\n",
    "                get = open(file=path+file, mode='rb')\n",
    "                data = bson.BSON.decode(get.read())\n",
    "                dataPath = data['dataPath']\n",
    "                content = data['content']\n",
    "                ## Send to Remote Unit\n",
    "                if Mongo.Clients.RemoteUnitClient[dataPath['dataBase']][dataPath['collection']].insert_one(content).acknowledged:\n",
    "                    get.close()\n",
    "                    if os.path.exists(path=path+file):\n",
    "                        os.remove(path+file)\n",
    "            files = sorted(os.listdir(path=path), reverse=True)\n",
    "    except Exception as e:\n",
    "        print(e)\n",
    "        return False\n",
    "    return True\n",
    "\n",
    "\n",
    "\n",
    "data = {\n",
    "            \"dateTime\"      : datetime.datetime.now(),\n",
    "            \"Voltage\"       : random.random()*15,\n",
    "            \"Current\"       : random.random()*5,\n",
    "            \"Percent\"       : random.random(),\n",
    "            \"Temperature\"   : random.random()*100\n",
    "        }\n",
    "\n",
    "for i in range(0, 10):\n",
    "    createFile({'dataSource': 'CeDRI_UGV', 'dataBase': 'CeDRI_UGV_buffer', 'collection': 'Battery_Data'},content=data)\n",
    "    \n",
    "#getFiles()"
   ]
  },
  {
   "cell_type": "code",
   "execution_count": null,
   "metadata": {},
   "outputs": [],
   "source": [
    "import GlobalSets.Mongo as Mongo\n",
    "\n",
    "ping(Mongo.Clients.RemoteUnitClient)"
   ]
  },
  {
   "cell_type": "code",
   "execution_count": 1,
   "metadata": {},
   "outputs": [
    {
     "name": "stdout",
     "output_type": "stream",
     "text": [
      "mongodb://194.210.89.236:27017/\n"
     ]
    }
   ],
   "source": [
    "ip      = '194.210.89.236'  # Remote Unit CLient\n",
    "port    = 27017             # Port \n",
    "\n",
    "string = 'mongodb://' + ip + ':' + str(port) + '/'\n",
    "\n",
    "print(string)"
   ]
  },
  {
   "cell_type": "code",
   "execution_count": null,
   "metadata": {},
   "outputs": [],
   "source": [
    "from GlobalSets.Mongo import DataSource as Source, Clients as MongoClient, DataBases as db, Collections as col\n",
    "from GlobalSets.localSave import createFile, sendFile\n",
    "import bson, pymongo\n",
    "\n",
    "from random import random\n",
    "from datetime import datetime\n",
    "from time import sleep\n",
    "\n",
    "dataPath = {\n",
    "    'dataSource': Source.CeDRI_UGV, \n",
    "    'dataBase': db.dbBuffer, \n",
    "    'collection': col.Battery\n",
    "}\n",
    "\n",
    "while True:\n",
    "    data = {\n",
    "        'dateTime'      : datetime.now(),\n",
    "        'voltage'       : 20+5*random(),\n",
    "        'current'       : 2*random(),\n",
    "        'percentage'    : (80+4*random())/100,\n",
    "    }\n",
    "    print(sendFile(Client=MongoClient.RemoteUnitClient, dataPath=dataPath, content=data))\n",
    "    sleep(1)"
   ]
  },
  {
   "cell_type": "code",
   "execution_count": 17,
   "metadata": {},
   "outputs": [
    {
     "data": {
      "text/plain": [
       "'192.168.56.1'"
      ]
     },
     "execution_count": 17,
     "metadata": {},
     "output_type": "execute_result"
    }
   ],
   "source": [
    "import socket\n",
    " \n",
    "socket.gethostbyname(socket.gethostname())"
   ]
  },
  {
   "cell_type": "code",
   "execution_count": 2,
   "metadata": {},
   "outputs": [
    {
     "name": "stderr",
     "output_type": "stream",
     "text": [
      "\n",
      "KeyboardInterrupt\n",
      "\n"
     ]
    }
   ],
   "source": [
    "from nodes_copy import NODES\n",
    "import os \n",
    "\n",
    "for node in NODES:\n",
    "    os.system(f\"python test.py {node}\") \n",
    "    print(node)\n",
    "    "
   ]
  },
  {
   "cell_type": "code",
   "execution_count": 24,
   "metadata": {},
   "outputs": [
    {
     "name": "stdout",
     "output_type": "stream",
     "text": [
      "{'c': {'a': 1, 's': 1}}\n"
     ]
    },
    {
     "data": {
      "text/plain": [
       "'\"a\":1\\n\"s\":1'"
      ]
     },
     "execution_count": 24,
     "metadata": {},
     "output_type": "execute_result"
    }
   ],
   "source": [
    "import json, bson \n",
    "\n",
    "a = {'c': {'a':1, 's':1}}\n",
    "print(a)\n",
    "\n",
    "\n",
    "command = json.dumps(a['c'], separators=('\\n', ':'))\n",
    "command.replace('{','').replace('}','')"
   ]
  },
  {
   "cell_type": "code",
   "execution_count": null,
   "metadata": {},
   "outputs": [],
   "source": []
  }
 ],
 "metadata": {
  "kernelspec": {
   "display_name": "Python 3",
   "language": "python",
   "name": "python3"
  },
  "language_info": {
   "codemirror_mode": {
    "name": "ipython",
    "version": 3
   },
   "file_extension": ".py",
   "mimetype": "text/x-python",
   "name": "python",
   "nbconvert_exporter": "python",
   "pygments_lexer": "ipython3",
   "version": "3.8.10"
  },
  "orig_nbformat": 4,
  "vscode": {
   "interpreter": {
    "hash": "3a4fd3c0dcbc658b189fbf5814096262f6268a6dc22fca0ed725de03044a0d6b"
   }
  }
 },
 "nbformat": 4,
 "nbformat_minor": 2
}
