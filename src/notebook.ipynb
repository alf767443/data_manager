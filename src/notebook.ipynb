{
 "cells": [
  {
   "cell_type": "code",
   "execution_count": 3,
   "metadata": {},
   "outputs": [],
   "source": [
    "import json, datetime, bson, os, random\n",
    "import GlobalSets.Mongo as Mongo\n",
    "\n",
    "## Create the path\n",
    "path =  os.path.expanduser('~')+'/UGV_tempData/'\n",
    "\n",
    "def createFile(dataPath: bson, content: bson):\n",
    "    try:\n",
    "        ## Check if dataPath is valid\n",
    "        test = dataPath['dataSource']\n",
    "        test = dataPath['dataBase']\n",
    "        test = dataPath['collection']\n",
    "        # Create data string\n",
    "        data = bson.encode(document={'dataPath': dataPath, 'content': content})\n",
    "        ## Create the file name\n",
    "        fileName =  datetime.datetime.strftime(datetime.datetime.now(),\"%Y%m%d%H%M%S_%f\")\n",
    "        ## Define the extension\n",
    "        extencion = '.cjson'\n",
    "        ## Create the extension\n",
    "        fullPath = path+fileName+extencion\n",
    "        # Create directory if it don't exist\n",
    "        if not os.path.exists(path=path):\n",
    "            os.chmod\n",
    "            os.makedirs(name=path)\n",
    "        # Create file\n",
    "        file = open(file=fullPath, mode='a')\n",
    "        file = open(file=fullPath, mode='wb')\n",
    "        # Fill file\n",
    "        file.write(data)\n",
    "        file.close()\n",
    "        return file\n",
    "    except Exception as e:\n",
    "        print(e)\n",
    "        return(False)\n",
    "\n",
    "def getFiles():\n",
    "    ## Get files\n",
    "    files = sorted(os.listdir(path=path), reverse=True)\n",
    "    ## Read files\n",
    "    try:\n",
    "        while Mongo.Clients.RemoteUnitClient.is_primary and len(files) > 0:\n",
    "            for file in files:\n",
    "                ## Read file\n",
    "                get = open(file=path+file, mode='rb')\n",
    "                data = bson.BSON.decode(get.read())\n",
    "                dataPath = data['dataPath']\n",
    "                content = data['content']\n",
    "                ## Send to Remote Unit\n",
    "                if Mongo.Clients.RemoteUnitClient[dataPath['dataBase']][dataPath['collection']].insert_one(content).acknowledged:\n",
    "                    get.close()\n",
    "                    if os.path.exists(path=path+file):\n",
    "                        os.remove(path+file)\n",
    "            files = sorted(os.listdir(path=path), reverse=True)\n",
    "    except Exception as e:\n",
    "        print(e)\n",
    "        return False\n",
    "    return True\n",
    "\n",
    "\n",
    "\n",
    "data = {\n",
    "            \"dateTime\"      : datetime.datetime.now(),\n",
    "            \"Voltage\"       : random.random()*15,\n",
    "            \"Current\"       : random.random()*5,\n",
    "            \"Percent\"       : random.random(),\n",
    "            \"Temperature\"   : random.random()*100\n",
    "        }\n",
    "\n",
    "for i in range(0, 10):\n",
    "    createFile({'dataSource': 'CeDRI_UGV', 'dataBase': 'CeDRI_UGV_buffer', 'collection': 'Battery_Data'},content=data)\n",
    "    \n",
    "#getFiles()"
   ]
  },
  {
   "cell_type": "code",
   "execution_count": 3,
   "metadata": {},
   "outputs": [
    {
     "name": "stdout",
     "output_type": "stream",
     "text": [
      "None\n"
     ]
    }
   ],
   "source": [
    "import GlobalSets.Mongo as Mongo\n",
    "\n",
    "ping(Mongo.Clients.RemoteUnitClient)"
   ]
  },
  {
   "cell_type": "code",
   "execution_count": 2,
   "metadata": {},
   "outputs": [
    {
     "ename": "TypeError",
     "evalue": "unsupported operand type(s) for &: 'str' and 'str'",
     "output_type": "error",
     "traceback": [
      "\u001b[0;31m---------------------------------------------------------------------------\u001b[0m",
      "\u001b[0;31mTypeError\u001b[0m                                 Traceback (most recent call last)",
      "Cell \u001b[0;32mIn[2], line 4\u001b[0m\n\u001b[1;32m      1\u001b[0m ip      \u001b[39m=\u001b[39m \u001b[39m'\u001b[39m\u001b[39m194.210.89.236\u001b[39m\u001b[39m'\u001b[39m  \u001b[39m# Remote Unit CLient\u001b[39;00m\n\u001b[1;32m      2\u001b[0m port    \u001b[39m=\u001b[39m \u001b[39m27017\u001b[39m             \u001b[39m# Port \u001b[39;00m\n\u001b[0;32m----> 4\u001b[0m string \u001b[39m=\u001b[39m \u001b[39m'\u001b[39;49m\u001b[39mmongodb://\u001b[39;49m\u001b[39m'\u001b[39;49m \u001b[39m&\u001b[39;49m ip \u001b[39m&\u001b[39m \u001b[39m'\u001b[39m\u001b[39m:27017/\u001b[39m\u001b[39m'\u001b[39m\n\u001b[1;32m      6\u001b[0m \u001b[39mprint\u001b[39m(string)\n",
      "\u001b[0;31mTypeError\u001b[0m: unsupported operand type(s) for &: 'str' and 'str'"
     ]
    }
   ],
   "source": [
    "ip      = '194.210.89.236'  # Remote Unit CLient\n",
    "port    = 27017             # Port \n",
    "\n",
    "string = 'mongodb://' + ip + ':27017/'\n",
    "\n",
    "print(string)"
   ]
  },
  {
   "cell_type": "code",
   "execution_count": null,
   "metadata": {},
   "outputs": [],
   "source": []
  }
 ],
 "metadata": {
  "kernelspec": {
   "display_name": "venv",
   "language": "python",
   "name": "python3"
  },
  "language_info": {
   "codemirror_mode": {
    "name": "ipython",
    "version": 3
   },
   "file_extension": ".py",
   "mimetype": "text/x-python",
   "name": "python",
   "nbconvert_exporter": "python",
   "pygments_lexer": "ipython3",
   "version": "3.8.10"
  },
  "orig_nbformat": 4,
  "vscode": {
   "interpreter": {
    "hash": "ff6c53498449acbe5dfc1818210579b9cded94ec6aa6ef1b09d3257257141fa7"
   }
  }
 },
 "nbformat": 4,
 "nbformat_minor": 2
}
